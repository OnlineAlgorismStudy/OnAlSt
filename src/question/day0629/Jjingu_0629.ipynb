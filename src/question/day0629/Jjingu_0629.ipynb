{
 "cells": [
  {
   "cell_type": "markdown",
   "metadata": {},
   "source": [
    "# 아대숲 찐구, 예제 풀이(0629)"
   ]
  },
  {
   "cell_type": "code",
   "execution_count": 1,
   "metadata": {},
   "outputs": [
    {
     "name": "stdout",
     "output_type": "stream",
     "text": [
      "Kor 80\n",
      "Mat 90\n",
      "Eng 100\n",
      "Sum 270\n",
      "Avg 90.0\n"
     ]
    }
   ],
   "source": [
    "text_sheet = ['Kor','Mat','Eng','Sum','Avg']\n",
    "score = [80,90,100]\n",
    "\n",
    "score.append(sum(score))\n",
    "score.append(score[3]/3)\n",
    "\n",
    "for i in range(len(score)):\n",
    "    print(text_sheet[i],score[i])"
   ]
  },
  {
   "cell_type": "code",
   "execution_count": null,
   "metadata": {},
   "outputs": [],
   "source": []
  }
 ],
 "metadata": {
  "kernelspec": {
   "display_name": "Python 3",
   "language": "python",
   "name": "python3"
  },
  "language_info": {
   "codemirror_mode": {
    "name": "ipython",
    "version": 3
   },
   "file_extension": ".py",
   "mimetype": "text/x-python",
   "name": "python",
   "nbconvert_exporter": "python",
   "pygments_lexer": "ipython3",
   "version": "3.7.6"
  }
 },
 "nbformat": 4,
 "nbformat_minor": 4
}
