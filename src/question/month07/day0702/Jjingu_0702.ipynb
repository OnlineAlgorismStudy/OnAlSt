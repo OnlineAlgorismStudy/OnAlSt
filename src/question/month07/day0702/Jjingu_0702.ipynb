{
 "cells": [
  {
   "cell_type": "markdown",
   "metadata": {},
   "source": [
    "# IT Bamboo Al Study 0701"
   ]
  },
  {
   "cell_type": "markdown",
   "metadata": {},
   "source": [
    "찐구 0701 예제 풀이"
   ]
  },
  {
   "cell_type": "code",
   "execution_count": 1,
   "metadata": {},
   "outputs": [],
   "source": [
    "def cvt_value(value):\n",
    "    yd = 91.44\n",
    "    val_cm = str(value)+\"yard = \"+str(round(value*yd,1)) + \"cm\"\n",
    "    print(val_cm)"
   ]
  },
  {
   "cell_type": "code",
   "execution_count": 2,
   "metadata": {},
   "outputs": [
    {
     "name": "stdout",
     "output_type": "stream",
     "text": [
      "yard? 10.1\n",
      "10.1yard = 923.5cm\n"
     ]
    }
   ],
   "source": [
    "val_yd = float(input(\"yard? \"))\n",
    "\n",
    "cvt_value(val_yd)"
   ]
  },
  {
   "cell_type": "code",
   "execution_count": null,
   "metadata": {},
   "outputs": [],
   "source": []
  }
 ],
 "metadata": {
  "kernelspec": {
   "display_name": "Python 3",
   "language": "python",
   "name": "python3"
  },
  "language_info": {
   "codemirror_mode": {
    "name": "ipython",
    "version": 3
   },
   "file_extension": ".py",
   "mimetype": "text/x-python",
   "name": "python",
   "nbconvert_exporter": "python",
   "pygments_lexer": "ipython3",
   "version": "3.7.6"
  }
 },
 "nbformat": 4,
 "nbformat_minor": 4
}
