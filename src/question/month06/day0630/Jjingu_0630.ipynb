{
 "cells": [
  {
   "cell_type": "markdown",
   "metadata": {},
   "source": [
    "# IT Bamboo Al Study 0630"
   ]
  },
  {
   "cell_type": "markdown",
   "metadata": {},
   "source": [
    "아대숲 찐구 0630 예제 풀이"
   ]
  },
  {
   "cell_type": "code",
   "execution_count": 2,
   "metadata": {},
   "outputs": [
    {
     "name": "stdout",
     "output_type": "stream",
     "text": [
      "55 - 10 = 45\n",
      "2008 - 1999 = 9\n"
     ]
    }
   ],
   "source": [
    "a = 50\n",
    "b = 2000\n",
    "\n",
    "print(a+a/10,\"-\",10,\"=\",9*a/10)\n",
    "print(1.004*b,\"-\"0.9995*b,\"=\",)"
   ]
  },
  {
   "cell_type": "code",
   "execution_count": null,
   "metadata": {},
   "outputs": [],
   "source": []
  }
 ],
 "metadata": {
  "kernelspec": {
   "display_name": "Python 3",
   "language": "python",
   "name": "python3"
  },
  "language_info": {
   "codemirror_mode": {
    "name": "ipython",
    "version": 3
   },
   "file_extension": ".py",
   "mimetype": "text/x-python",
   "name": "python",
   "nbconvert_exporter": "python",
   "pygments_lexer": "ipython3",
   "version": "3.7.6"
  }
 },
 "nbformat": 4,
 "nbformat_minor": 4
}
