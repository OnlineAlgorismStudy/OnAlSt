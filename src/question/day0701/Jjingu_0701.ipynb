{
 "cells": [
  {
   "cell_type": "markdown",
   "metadata": {},
   "source": [
    "# IT Bamboo Al Study 0701"
   ]
  },
  {
   "cell_type": "markdown",
   "metadata": {},
   "source": [
    "찐구 0701 예제 풀이"
   ]
  },
  {
   "cell_type": "code",
   "execution_count": 1,
   "metadata": {},
   "outputs": [],
   "source": [
    "import re"
   ]
  },
  {
   "cell_type": "code",
   "execution_count": 8,
   "metadata": {},
   "outputs": [
    {
     "name": "stdout",
     "output_type": "stream",
     "text": [
      "192.0cm\n",
      "26.7cm\n"
     ]
    }
   ],
   "source": [
    "yd = 91.44\n",
    "inch = 2.54\n",
    "\n",
    "src = ['2.1yd','10.5in']\n",
    "\n",
    "for value in src:\n",
    "    SI = \"\".join(re.findall(\"[a-zA-Z]+\", value))\n",
    "    val = float(value[:-len(SI)])\n",
    "    if SI == \"yd\":\n",
    "        val_cm = str(round(val*yd,1)) + \"cm\"\n",
    "    elif SI==\"in\":\n",
    "        val_cm = str(round(val*inch,1))+ \"cm\"\n",
    "    \n",
    "    print(val_cm)"
   ]
  },
  {
   "cell_type": "code",
   "execution_count": null,
   "metadata": {},
   "outputs": [],
   "source": []
  }
 ],
 "metadata": {
  "kernelspec": {
   "display_name": "Python 3",
   "language": "python",
   "name": "python3"
  },
  "language_info": {
   "codemirror_mode": {
    "name": "ipython",
    "version": 3
   },
   "file_extension": ".py",
   "mimetype": "text/x-python",
   "name": "python",
   "nbconvert_exporter": "python",
   "pygments_lexer": "ipython3",
   "version": "3.7.6"
  }
 },
 "nbformat": 4,
 "nbformat_minor": 4
}
