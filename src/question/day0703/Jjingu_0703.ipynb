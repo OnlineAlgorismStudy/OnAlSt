{
 "cells": [
  {
   "cell_type": "markdown",
   "metadata": {},
   "source": [
    "# IT Bamboo Al Study 0703"
   ]
  },
  {
   "cell_type": "code",
   "execution_count": 1,
   "metadata": {},
   "outputs": [],
   "source": [
    "def new_rect(val):\n",
    "    width, height = val.split(' ')\n",
    "    width, height = int(width), int(height)\n",
    "    \n",
    "    print(f'width = {5+width}\\nlength = {2*height}\\narea = {2*(5+width)*height}')"
   ]
  },
  {
   "cell_type": "code",
   "execution_count": 2,
   "metadata": {},
   "outputs": [
    {
     "name": "stdout",
     "output_type": "stream",
     "text": [
      "Width Height20 15\n",
      "width = 25\n",
      "length = 30\n",
      "area = 750\n"
     ]
    }
   ],
   "source": [
    "value = input(\"Width Height\")\n",
    "new_rect(value)"
   ]
  },
  {
   "cell_type": "code",
   "execution_count": null,
   "metadata": {},
   "outputs": [],
   "source": []
  }
 ],
 "metadata": {
  "kernelspec": {
   "display_name": "Python 3",
   "language": "python",
   "name": "python3"
  },
  "language_info": {
   "codemirror_mode": {
    "name": "ipython",
    "version": 3
   },
   "file_extension": ".py",
   "mimetype": "text/x-python",
   "name": "python",
   "nbconvert_exporter": "python",
   "pygments_lexer": "ipython3",
   "version": "3.7.6"
  }
 },
 "nbformat": 4,
 "nbformat_minor": 4
}
