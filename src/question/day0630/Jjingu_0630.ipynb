{
 "cells": [
  {
   "cell_type": "markdown",
   "metadata": {},
   "source": [
    "# IT Bamboo Al Study 0630"
   ]
  },
  {
   "cell_type": "markdown",
   "metadata": {},
   "source": [
    "아대숲 찐구 0630 예제 풀이"
   ]
  },
  {
   "cell_type": "code",
   "execution_count": 1,
   "metadata": {},
   "outputs": [
    {
     "name": "stdout",
     "output_type": "stream",
     "text": [
      "55 - 10 = 45\n",
      "2008 - 1999 = 9\n"
     ]
    }
   ],
   "source": [
    "a = [[55,10],[2008,1999]]\n",
    "\n",
    "for i in range(len(a)):\n",
    "    b = a[i]\n",
    "    c = b[0] - b[1]\n",
    "    print(b[0],\"-\",b[1],\"=\",c)"
   ]
  },
  {
   "cell_type": "code",
   "execution_count": null,
   "metadata": {},
   "outputs": [],
   "source": []
  }
 ],
 "metadata": {
  "kernelspec": {
   "display_name": "Python 3",
   "language": "python",
   "name": "python3"
  },
  "language_info": {
   "codemirror_mode": {
    "name": "ipython",
    "version": 3
   },
   "file_extension": ".py",
   "mimetype": "text/x-python",
   "name": "python",
   "nbconvert_exporter": "python",
   "pygments_lexer": "ipython3",
   "version": "3.7.6"
  }
 },
 "nbformat": 4,
 "nbformat_minor": 4
}
